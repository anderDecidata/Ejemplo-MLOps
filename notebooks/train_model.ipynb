{
 "cells": [
  {
   "cell_type": "code",
   "execution_count": 2,
   "metadata": {},
   "outputs": [],
   "source": [
    "import os\n",
    "raiz = os.getcwd().replace('\\\\notebooks', '')\n",
    "os.chdir(raiz)\n",
    "\n",
    "import pandas as pd\n",
    "import pickle\n",
    "from sklearn.ensemble import RandomForestRegressor\n",
    "\n",
    "from utils import create_predictors\n",
    "from skforecast.model_selection import grid_search_forecaster\n",
    "from skforecast.ForecasterAutoregCustom import ForecasterAutoregCustom\n",
    "\n",
    "import requests\n",
    "import pandas as pd\n",
    "from datetime import datetime\n"
   ]
  },
  {
   "cell_type": "code",
   "execution_count": 3,
   "metadata": {},
   "outputs": [],
   "source": [
    "# Datos \n",
    "steps = 36\n",
    "n_datos_entrenar = 200\n",
    "path_fichero = 'bitcoin.csv'\n",
    "path_modelo = 'model.pickle'\n",
    "\n"
   ]
  },
  {
   "cell_type": "code",
   "execution_count": 4,
   "metadata": {},
   "outputs": [],
   "source": [
    "# Extraigo la info de Bitcoin\n",
    "url = 'https://api.blockchain.info/charts/transactions-per-second?timespan=all&sampled=false&metadata=false&cors=true&format=json'\n",
    "resp = requests.get(url)\n",
    "\n",
    "bitcoin = pd.DataFrame(resp.json()['values'])\n",
    "\n"
   ]
  },
  {
   "cell_type": "code",
   "execution_count": 5,
   "metadata": {},
   "outputs": [],
   "source": [
    "# Concierto las fecha UNIX en timestamp\n",
    "bitcoin['x'] = [datetime.utcfromtimestamp(x).strftime('%Y-%m-%d %H:%M:%S') for x in bitcoin['x']]\n",
    "bitcoin['x'] = pd.to_datetime(bitcoin['x'])\n",
    "\n",
    "# Doy nombre a las columnas\n",
    "bitcoin.columns = ['date', 'transactions']\n",
    "\n",
    "# Guardo el fichero en csv\n",
    "bitcoin.to_csv(path_fichero, index = False)\n",
    "\n"
   ]
  },
  {
   "cell_type": "code",
   "execution_count": 6,
   "metadata": {},
   "outputs": [
    {
     "data": {
      "text/html": [
       "<div>\n",
       "<style scoped>\n",
       "    .dataframe tbody tr th:only-of-type {\n",
       "        vertical-align: middle;\n",
       "    }\n",
       "\n",
       "    .dataframe tbody tr th {\n",
       "        vertical-align: top;\n",
       "    }\n",
       "\n",
       "    .dataframe thead th {\n",
       "        text-align: right;\n",
       "    }\n",
       "</style>\n",
       "<table border=\"1\" class=\"dataframe\">\n",
       "  <thead>\n",
       "    <tr style=\"text-align: right;\">\n",
       "      <th></th>\n",
       "      <th>date</th>\n",
       "      <th>transactions</th>\n",
       "    </tr>\n",
       "  </thead>\n",
       "  <tbody>\n",
       "    <tr>\n",
       "      <th>0</th>\n",
       "      <td>2016-06-11 00:00:00</td>\n",
       "      <td>5.850000</td>\n",
       "    </tr>\n",
       "    <tr>\n",
       "      <th>1</th>\n",
       "      <td>2016-06-11 01:00:00</td>\n",
       "      <td>6.050000</td>\n",
       "    </tr>\n",
       "    <tr>\n",
       "      <th>2</th>\n",
       "      <td>2016-06-11 02:00:00</td>\n",
       "      <td>9.050000</td>\n",
       "    </tr>\n",
       "    <tr>\n",
       "      <th>3</th>\n",
       "      <td>2016-06-11 03:00:00</td>\n",
       "      <td>6.050000</td>\n",
       "    </tr>\n",
       "    <tr>\n",
       "      <th>4</th>\n",
       "      <td>2016-06-11 04:00:00</td>\n",
       "      <td>12.650000</td>\n",
       "    </tr>\n",
       "    <tr>\n",
       "      <th>...</th>\n",
       "      <td>...</td>\n",
       "      <td>...</td>\n",
       "    </tr>\n",
       "    <tr>\n",
       "      <th>47958</th>\n",
       "      <td>2021-12-01 07:00:00</td>\n",
       "      <td>9.350000</td>\n",
       "    </tr>\n",
       "    <tr>\n",
       "      <th>47959</th>\n",
       "      <td>2021-12-01 08:00:00</td>\n",
       "      <td>16.533333</td>\n",
       "    </tr>\n",
       "    <tr>\n",
       "      <th>47960</th>\n",
       "      <td>2021-12-01 09:00:00</td>\n",
       "      <td>10.566667</td>\n",
       "    </tr>\n",
       "    <tr>\n",
       "      <th>47961</th>\n",
       "      <td>2021-12-01 10:00:00</td>\n",
       "      <td>17.150000</td>\n",
       "    </tr>\n",
       "    <tr>\n",
       "      <th>47962</th>\n",
       "      <td>2021-12-01 11:00:00</td>\n",
       "      <td>3.066667</td>\n",
       "    </tr>\n",
       "  </tbody>\n",
       "</table>\n",
       "<p>47963 rows × 2 columns</p>\n",
       "</div>"
      ],
      "text/plain": [
       "                     date  transactions\n",
       "0     2016-06-11 00:00:00      5.850000\n",
       "1     2016-06-11 01:00:00      6.050000\n",
       "2     2016-06-11 02:00:00      9.050000\n",
       "3     2016-06-11 03:00:00      6.050000\n",
       "4     2016-06-11 04:00:00     12.650000\n",
       "...                   ...           ...\n",
       "47958 2021-12-01 07:00:00      9.350000\n",
       "47959 2021-12-01 08:00:00     16.533333\n",
       "47960 2021-12-01 09:00:00     10.566667\n",
       "47961 2021-12-01 10:00:00     17.150000\n",
       "47962 2021-12-01 11:00:00      3.066667\n",
       "\n",
       "[47963 rows x 2 columns]"
      ]
     },
     "execution_count": 6,
     "metadata": {},
     "output_type": "execute_result"
    }
   ],
   "source": [
    "# Leo los datos\n",
    "datos = pd.read_csv(path_fichero)\n",
    "\n",
    "# Fijo el tipo de datos\n",
    "datos['date'] = pd.to_datetime(datos['date'])\n",
    "datos['date'] = datos['date'].dt.round('H')\n",
    "\n",
    "datos_agrupados = datos\\\n",
    "  .groupby('date')\\\n",
    "  .sum()\\\n",
    "  .reset_index()\n",
    "\n",
    "datos_agrupados"
   ]
  },
  {
   "cell_type": "code",
   "execution_count": null,
   "metadata": {},
   "outputs": [],
   "source": [
    "# Pongo bien los datos\n",
    "datos = datos.set_index('date')\n",
    "datos = datos['transactions']\n",
    "\n",
    "# Split entre train y test\n",
    "datos_train = datos[ -n_datos_entrenar:-steps]\n",
    "datos_test  = datos[-steps:]\n",
    "\n"
   ]
  },
  {
   "cell_type": "code",
   "execution_count": null,
   "metadata": {},
   "outputs": [],
   "source": [
    "# Grid search de hiperparámetros\n",
    "forecaster_rf = ForecasterAutoregCustom(\n",
    "                    regressor      = RandomForestRegressor(random_state=123),\n",
    "                    fun_predictors = create_predictors,\n",
    "                    window_size    = 20\n",
    "                )\n",
    "\n",
    "# Hiperparámetros del regresor\n",
    "param_grid = {'n_estimators': [100, 500],\n",
    "              'max_depth': [3, 5, 10]}\n",
    "\n",
    "resultados_grid = grid_search_forecaster(\n",
    "                        forecaster  = forecaster_rf,\n",
    "                        y           = datos_train,\n",
    "                        param_grid  = param_grid,\n",
    "                        steps       = 10,\n",
    "                        method      = 'cv',\n",
    "                        metric      = 'mean_squared_error',\n",
    "                        initial_train_size    = int(len(datos_train)*0.5),\n",
    "                        allow_incomplete_fold = True,\n",
    "                        return_best = True,\n",
    "                        verbose     = False\n",
    "                    )\n",
    "\n"
   ]
  },
  {
   "cell_type": "code",
   "execution_count": null,
   "metadata": {},
   "outputs": [],
   "source": [
    "forecaster_rf.predict(datos_test)"
   ]
  },
  {
   "cell_type": "code",
   "execution_count": null,
   "metadata": {},
   "outputs": [],
   "source": [
    "# Guardo el modelo\n",
    "ultima_fecha_entrenamiento = datos_test.index[-1].strftime('%Y-%m-%d %H:%M:%S')\n",
    "pickle.dump(ultima_fecha_entrenamiento, open('ultima_fecha_entrenamiento.pickle', 'wb'))\n",
    "pickle.dump(forecaster_rf, open(path_modelo, 'wb'))"
   ]
  }
 ],
 "metadata": {
  "interpreter": {
   "hash": "535129f11dd28e7f8f7171c0a5b256c28a72faf5d8172fe0fd5bb0300a9d1b35"
  },
  "kernelspec": {
   "display_name": "Python 3.9.7 64-bit ('mlops_example': venv)",
   "language": "python",
   "name": "python3"
  },
  "language_info": {
   "codemirror_mode": {
    "name": "ipython",
    "version": 3
   },
   "file_extension": ".py",
   "mimetype": "text/x-python",
   "name": "python",
   "nbconvert_exporter": "python",
   "pygments_lexer": "ipython3",
   "version": "3.9.7"
  },
  "orig_nbformat": 4
 },
 "nbformat": 4,
 "nbformat_minor": 2
}
