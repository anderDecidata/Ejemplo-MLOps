{
 "cells": [
  {
   "cell_type": "code",
   "execution_count": 1,
   "metadata": {},
   "outputs": [],
   "source": [
    "import os\n",
    "raiz = os.getcwd().replace('\\\\notebooks', '')\n",
    "os.chdir(raiz)\n",
    "\n",
    "import pickle\n",
    "from utils import create_predictors"
   ]
  },
  {
   "cell_type": "code",
   "execution_count": 2,
   "metadata": {},
   "outputs": [],
   "source": [
    "path_modelo = 'model.pickle'"
   ]
  },
  {
   "cell_type": "code",
   "execution_count": 3,
   "metadata": {},
   "outputs": [
    {
     "data": {
      "text/plain": [
       "array([15.3405    ,  9.97663889, 13.769975  ,  8.27725   , 11.70340202,\n",
       "        6.91288889, 10.86201591,  6.42867063, 11.13431111,  6.90034841,\n",
       "       13.05079316,  8.44775952, 14.96544691,  9.67445317, 16.5265787 ,\n",
       "        9.95181806, 17.4662037 , 10.50004722, 17.80437037, 12.30880833,\n",
       "       20.76923333, 13.1604515 , 21.66541667, 13.80242094, 22.67283333,\n",
       "       13.40610705, 21.07366667, 11.57074048, 18.56833333, 10.563425  ,\n",
       "       15.72919167, 10.20097778, 14.610275  ,  8.99825   , 12.82824167,\n",
       "        7.56116667, 11.26482226,  6.60721111, 10.66313611,  6.68515397,\n",
       "       11.85052639,  7.68806508, 13.93769316,  8.79752341, 14.82319771,\n",
       "        9.64308611, 16.51441204,  9.89285139, 17.1672037 , 10.22164306,\n",
       "       16.60842593,  9.92655278, 15.42606667,  9.30505278, 14.02616667,\n",
       "        8.10595833, 12.18298889,  7.15321429, 10.86120281,  6.36670397,\n",
       "       11.26348194,  6.92600952, 13.67753333,  8.37042222, 14.8519358 ,\n",
       "        9.63249484, 16.4595787 ,  9.91057083, 17.4362037 , 10.44331806,\n",
       "       17.80087037, 12.27264167, 20.7549    , 13.1619515 , 21.70108333,\n",
       "       13.81892094, 22.67383333, 13.46679872, 21.33116667, 11.65940714,\n",
       "       18.61616667, 10.580425  , 15.69519167, 10.20247778, 14.51310833,\n",
       "        8.95925   , 12.8452    ,  7.55216667, 11.27598892,  6.60493333,\n",
       "       10.86258056,  6.71832063, 11.78502639,  7.66473175, 13.93735983,\n",
       "        8.79719008, 14.83236437,  9.64900278, 16.49974537,  9.89022639])"
      ]
     },
     "execution_count": 3,
     "metadata": {},
     "output_type": "execute_result"
    }
   ],
   "source": [
    "forecaster_rf = pickle.load(open('model.pickle', 'rb'))\n",
    "forecaster_rf.predict(100)"
   ]
  }
 ],
 "metadata": {
  "interpreter": {
   "hash": "535129f11dd28e7f8f7171c0a5b256c28a72faf5d8172fe0fd5bb0300a9d1b35"
  },
  "kernelspec": {
   "display_name": "Python 3.9.7 64-bit ('mlops_example': venv)",
   "language": "python",
   "name": "python3"
  },
  "language_info": {
   "codemirror_mode": {
    "name": "ipython",
    "version": 3
   },
   "file_extension": ".py",
   "mimetype": "text/x-python",
   "name": "python",
   "nbconvert_exporter": "python",
   "pygments_lexer": "ipython3",
   "version": "3.9.7"
  },
  "orig_nbformat": 4
 },
 "nbformat": 4,
 "nbformat_minor": 2
}
