{
 "cells": [
  {
   "cell_type": "code",
   "execution_count": 1,
   "metadata": {},
   "outputs": [],
   "source": [
    "import os\n",
    "raiz = os.getcwd().replace('\\\\notebooks', '')\n",
    "os.chdir(raiz)"
   ]
  },
  {
   "cell_type": "code",
   "execution_count": null,
   "metadata": {},
   "outputs": [],
   "source": [
    "import pandas as pd\n",
    "import requests\n",
    "from datetime import datetime\n",
    "from sqlalchemy import create_engine\n",
    "from secrets import uri\n",
    "import pickle"
   ]
  },
  {
   "cell_type": "code",
   "execution_count": 2,
   "metadata": {},
   "outputs": [],
   "source": [
    "num_predicciones = 168"
   ]
  },
  {
   "cell_type": "code",
   "execution_count": 3,
   "metadata": {},
   "outputs": [
    {
     "data": {
      "text/html": [
       "<div>\n",
       "<style scoped>\n",
       "    .dataframe tbody tr th:only-of-type {\n",
       "        vertical-align: middle;\n",
       "    }\n",
       "\n",
       "    .dataframe tbody tr th {\n",
       "        vertical-align: top;\n",
       "    }\n",
       "\n",
       "    .dataframe thead th {\n",
       "        text-align: right;\n",
       "    }\n",
       "</style>\n",
       "<table border=\"1\" class=\"dataframe\">\n",
       "  <thead>\n",
       "    <tr style=\"text-align: right;\">\n",
       "      <th></th>\n",
       "      <th>x</th>\n",
       "      <th>y</th>\n",
       "    </tr>\n",
       "  </thead>\n",
       "  <tbody>\n",
       "    <tr>\n",
       "      <th>0</th>\n",
       "      <td>2016-06-11 00:00:00</td>\n",
       "      <td>1.983333</td>\n",
       "    </tr>\n",
       "    <tr>\n",
       "      <th>1</th>\n",
       "      <td>2016-06-11 00:15:00</td>\n",
       "      <td>1.966667</td>\n",
       "    </tr>\n",
       "    <tr>\n",
       "      <th>2</th>\n",
       "      <td>2016-06-11 00:30:00</td>\n",
       "      <td>1.900000</td>\n",
       "    </tr>\n",
       "    <tr>\n",
       "      <th>3</th>\n",
       "      <td>2016-06-11 00:45:00</td>\n",
       "      <td>2.283333</td>\n",
       "    </tr>\n",
       "    <tr>\n",
       "      <th>4</th>\n",
       "      <td>2016-06-11 01:00:00</td>\n",
       "      <td>2.083333</td>\n",
       "    </tr>\n",
       "  </tbody>\n",
       "</table>\n",
       "</div>"
      ],
      "text/plain": [
       "                    x         y\n",
       "0 2016-06-11 00:00:00  1.983333\n",
       "1 2016-06-11 00:15:00  1.966667\n",
       "2 2016-06-11 00:30:00  1.900000\n",
       "3 2016-06-11 00:45:00  2.283333\n",
       "4 2016-06-11 01:00:00  2.083333"
      ]
     },
     "execution_count": 3,
     "metadata": {},
     "output_type": "execute_result"
    }
   ],
   "source": [
    "# Obtengo los datos Últimos 12 datos\n",
    "url = 'https://api.blockchain.info/charts/transactions-per-second?timespan=all&sampled=false&metadata=false&cors=true&format=json'\n",
    "resp = requests.get(url)\n",
    "data = pd.DataFrame(resp.json()['values'])\n",
    "\n",
    "# Pongo bien la fecha\n",
    "data['x'] = [datetime.utcfromtimestamp(x).strftime('%Y-%m-%d %H:%M:%S') for x in data['x']]\n",
    "data['x'] = pd.to_datetime(data['x'])\n",
    "\n",
    "data.head()"
   ]
  },
  {
   "cell_type": "code",
   "execution_count": 6,
   "metadata": {},
   "outputs": [
    {
     "name": "stdout",
     "output_type": "stream",
     "text": [
      "None\n"
     ]
    }
   ],
   "source": [
    "# Leo la última predicción realizada\n",
    "engine = create_engine(uri)\n",
    "query = engine.execute('SELECT MAX(fecha_prediccion) FROM predicciones;')\n",
    "ultima_fecha_prediccion = query.fetchall()[0][0]\n",
    "query.close()\n",
    "\n",
    "print(ultima_fecha_prediccion)\n",
    "if ultima_fecha_prediccion is not None:\n",
    "    ultima_fecha_prediccion = datetime.strptime(ultima_fecha_prediccion, '%Y-%m-%d %H:%M:%S') \n",
    "    \n"
   ]
  },
  {
   "cell_type": "code",
   "execution_count": 7,
   "metadata": {},
   "outputs": [
    {
     "data": {
      "text/plain": [
       "datetime.datetime(2021, 11, 25, 10, 0)"
      ]
     },
     "execution_count": 7,
     "metadata": {},
     "output_type": "execute_result"
    }
   ],
   "source": [
    "# Leo la última fecha de entrenamiento\n",
    "ultima_fecha_entrenamiento = pickle.load(open('ultima_fecha_entrenamiento.pickle', 'rb'))\n",
    "\n",
    "ultima_fecha_entrenamiento = datetime.strptime(ultima_fecha_entrenamiento, '%Y-%m-%d %H:%M:%S') \n",
    "ultima_fecha_entrenamiento"
   ]
  },
  {
   "cell_type": "code",
   "execution_count": 8,
   "metadata": {},
   "outputs": [],
   "source": [
    "# Cargo el modelo\n",
    "forecaster_rf = pickle.load(open('model.pickle', 'rb'))"
   ]
  },
  {
   "cell_type": "code",
   "execution_count": 9,
   "metadata": {},
   "outputs": [],
   "source": [
    "# Si no hay última fecha en BBDD o entrenamiento > BBDD, leo la última fecha de entrenamiento\n",
    "if  (ultima_fecha_prediccion is None) or (ultima_fecha_prediccion > ultima_fecha_entrenamiento):\n",
    "    \n",
    "    # Como no hay predicciones, hago predicciones para los próximos días\n",
    "    predicciones = forecaster_rf.predict(num_predicciones)\n",
    "\n",
    "    fechas = pd.date_range(\n",
    "        start = ultima_fecha_entrenamiento.strftime('%Y-%m-%d %H:%M:%S'),\n",
    "        periods = num_predicciones,\n",
    "        freq = '1H'\n",
    "        )\n",
    "\n",
    "elif ultima_fecha_prediccion > ultima_fecha_entrenamiento:\n",
    "    # En este caso hay que tener en cuenta las diferencias entre la última fecha de predicción y sumar la diferencia al número de días a extraer\n",
    "    dif_seg= ultima_fecha_prediccion - ultima_fecha_entrenamiento\n",
    "    horas_extraer = num_predicciones + dif_seg.seconds//3600\n",
    "    predicciones = forecaster_rf.predict(num_predicciones)\n",
    "    # Me quedo con las últimas predicciones\n",
    "    predicciones = predicciones[-num_predicciones:]\n",
    "    \n",
    "    fechas = pd.date_range(\n",
    "        start = ultima_fecha_prediccion.strftime('%Y-%m-%d %H:%M:%S'),\n",
    "        periods = num_predicciones,\n",
    "        freq = '1H'\n",
    "        )\n",
    "else:\n",
    "    # Si el último entrenamiento > últimas predicciones\n",
    "    predicciones = forecaster_rf.predict(num_predicciones)\n",
    "\n",
    "    fechas = pd.date_range(\n",
    "        start = ultima_fecha_entrenamiento.strftime('%Y-%m-%d %H:%M:%S'),\n",
    "        periods = num_predicciones,\n",
    "        freq = '1H'\n",
    "        )\n"
   ]
  },
  {
   "cell_type": "code",
   "execution_count": 10,
   "metadata": {},
   "outputs": [
    {
     "data": {
      "text/plain": [
       "[('2021-11-25 22:12:29', '2021-11-25 10:00:00', 3.0610443518518506),\n",
       " ('2021-11-25 22:12:29', '2021-11-25 11:00:00', 2.7437194444444426),\n",
       " ('2021-11-25 22:12:29', '2021-11-25 12:00:00', 3.04830093915344)]"
      ]
     },
     "execution_count": 10,
     "metadata": {},
     "output_type": "execute_result"
    }
   ],
   "source": [
    "upload_data = list(zip([\n",
    "    datetime.now().strftime('%Y-%m-%d %H:%M:%S')] * num_predicciones,\n",
    "    [fecha.strftime('%Y-%m-%d %H:%M:%S') for fecha in fechas ],\n",
    "        predicciones\n",
    "    ))\n",
    "\n",
    "upload_data[:3]"
   ]
  },
  {
   "cell_type": "code",
   "execution_count": 17,
   "metadata": {},
   "outputs": [],
   "source": [
    "# Hago el insert\n",
    "for upload_dia in upload_data:\n",
    "    timestamp, fecha_pred, pred = upload_dia\n",
    "    pred = round(pred, 4)\n",
    "\n",
    "    result = engine.execute(f\"INSERT INTO predicciones (timestamp, fecha_prediccion,  prediccion)\\\n",
    "        VALUES('{timestamp}', '{fecha_pred}', '{pred}') \\\n",
    "        ON CONFLICT (fecha_prediccion) DO UPDATE \\\n",
    "        SET timestamp = '{timestamp}', \\\n",
    "            prediccion = '{pred}'\\\n",
    "        ;\")\n",
    "    result.close()\n"
   ]
  }
 ],
 "metadata": {
  "interpreter": {
   "hash": "535129f11dd28e7f8f7171c0a5b256c28a72faf5d8172fe0fd5bb0300a9d1b35"
  },
  "kernelspec": {
   "display_name": "Python 3.9.7 64-bit ('mlops_example': venv)",
   "language": "python",
   "name": "python3"
  },
  "language_info": {
   "codemirror_mode": {
    "name": "ipython",
    "version": 3
   },
   "file_extension": ".py",
   "mimetype": "text/x-python",
   "name": "python",
   "nbconvert_exporter": "python",
   "pygments_lexer": "ipython3",
   "version": "3.9.7"
  },
  "orig_nbformat": 4
 },
 "nbformat": 4,
 "nbformat_minor": 2
}
