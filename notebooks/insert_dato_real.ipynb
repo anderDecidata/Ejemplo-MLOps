{
 "cells": [
  {
   "cell_type": "code",
   "execution_count": 1,
   "metadata": {},
   "outputs": [],
   "source": [
    "import os\n",
    "raiz = os.getcwd().replace('\\\\notebooks', '')\n",
    "os.chdir(raiz)"
   ]
  },
  {
   "cell_type": "code",
   "execution_count": null,
   "metadata": {},
   "outputs": [],
   "source": [
    "import pandas as pd\n",
    "import requests\n",
    "from datetime import datetime\n",
    "from sqlalchemy import create_engine\n",
    "from secrets import uri\n",
    "import pickle"
   ]
  },
  {
   "cell_type": "code",
   "execution_count": 2,
   "metadata": {},
   "outputs": [
    {
     "data": {
      "text/html": [
       "<div>\n",
       "<style scoped>\n",
       "    .dataframe tbody tr th:only-of-type {\n",
       "        vertical-align: middle;\n",
       "    }\n",
       "\n",
       "    .dataframe tbody tr th {\n",
       "        vertical-align: top;\n",
       "    }\n",
       "\n",
       "    .dataframe thead th {\n",
       "        text-align: right;\n",
       "    }\n",
       "</style>\n",
       "<table border=\"1\" class=\"dataframe\">\n",
       "  <thead>\n",
       "    <tr style=\"text-align: right;\">\n",
       "      <th></th>\n",
       "      <th>x</th>\n",
       "      <th>y</th>\n",
       "    </tr>\n",
       "  </thead>\n",
       "  <tbody>\n",
       "    <tr>\n",
       "      <th>0</th>\n",
       "      <td>2016-06-11 00:00:00</td>\n",
       "      <td>1.983333</td>\n",
       "    </tr>\n",
       "    <tr>\n",
       "      <th>1</th>\n",
       "      <td>2016-06-11 00:15:00</td>\n",
       "      <td>1.966667</td>\n",
       "    </tr>\n",
       "    <tr>\n",
       "      <th>2</th>\n",
       "      <td>2016-06-11 00:30:00</td>\n",
       "      <td>1.900000</td>\n",
       "    </tr>\n",
       "    <tr>\n",
       "      <th>3</th>\n",
       "      <td>2016-06-11 00:45:00</td>\n",
       "      <td>2.283333</td>\n",
       "    </tr>\n",
       "    <tr>\n",
       "      <th>4</th>\n",
       "      <td>2016-06-11 01:00:00</td>\n",
       "      <td>2.083333</td>\n",
       "    </tr>\n",
       "  </tbody>\n",
       "</table>\n",
       "</div>"
      ],
      "text/plain": [
       "                    x         y\n",
       "0 2016-06-11 00:00:00  1.983333\n",
       "1 2016-06-11 00:15:00  1.966667\n",
       "2 2016-06-11 00:30:00  1.900000\n",
       "3 2016-06-11 00:45:00  2.283333\n",
       "4 2016-06-11 01:00:00  2.083333"
      ]
     },
     "execution_count": 2,
     "metadata": {},
     "output_type": "execute_result"
    }
   ],
   "source": [
    "# Obtengo los datos Últimos 12 datos\n",
    "url = 'https://api.blockchain.info/charts/transactions-per-second?timespan=all&sampled=false&metadata=false&cors=true&format=json'\n",
    "resp = requests.get(url)\n",
    "data = pd.DataFrame(resp.json()['values'])\n",
    "\n",
    "# Pongo bien la fecha\n",
    "data['x'] = [datetime.utcfromtimestamp(x).strftime('%Y-%m-%d %H:%M:%S') for x in data['x']]\n",
    "data['x'] = pd.to_datetime(data['x'])\n",
    "\n",
    "data.head()"
   ]
  },
  {
   "cell_type": "code",
   "execution_count": 3,
   "metadata": {},
   "outputs": [
    {
     "name": "stdout",
     "output_type": "stream",
     "text": [
      "None\n",
      "2021-11-25 10:00:00\n",
      "2021-12-02 09:00:00\n"
     ]
    }
   ],
   "source": [
    "# Leo la última predicción realizada\n",
    "engine = create_engine(uri)\n",
    "query = engine.execute('SELECT MAX(fecha_realidad) FROM realidad;')\n",
    "ultima_fecha_realidad = query.fetchall()[0][0]\n",
    "query.close()\n",
    "\n",
    "# Leo la última predicción realizada\n",
    "engine = create_engine(uri)\n",
    "query = engine.execute('SELECT MIN(fecha_prediccion), MAX(fecha_prediccion) FROM predicciones;')\n",
    "fecha_prediccion = query.fetchall()[0]\n",
    "query.close()\n",
    "\n",
    "\n",
    "primera_fecha_prediccion = fecha_prediccion[0]\n",
    "ultima_fecha_prediccion = fecha_prediccion[1]\n",
    "\n",
    "print(ultima_fecha_realidad)\n",
    "print(primera_fecha_prediccion)\n",
    "print(ultima_fecha_prediccion)\n"
   ]
  },
  {
   "cell_type": "code",
   "execution_count": 4,
   "metadata": {},
   "outputs": [
    {
     "name": "stdout",
     "output_type": "stream",
     "text": [
      "2021-11-25 10:00:00\n"
     ]
    }
   ],
   "source": [
    "if ultima_fecha_realidad is None:\n",
    "    fecha_extraer = primera_fecha_prediccion\n",
    "\n",
    "elif  ultima_fecha_realidad <= ultima_fecha_prediccion:\n",
    "    fecha_extraer = ultima_fecha_realidad\n",
    "\n",
    "else:\n",
    "    fecha_extraer = ultima_fecha_realidad\n",
    "\n",
    "print(fecha_extraer)"
   ]
  },
  {
   "cell_type": "code",
   "execution_count": 18,
   "metadata": {},
   "outputs": [
    {
     "data": {
      "text/html": [
       "<div>\n",
       "<style scoped>\n",
       "    .dataframe tbody tr th:only-of-type {\n",
       "        vertical-align: middle;\n",
       "    }\n",
       "\n",
       "    .dataframe tbody tr th {\n",
       "        vertical-align: top;\n",
       "    }\n",
       "\n",
       "    .dataframe thead th {\n",
       "        text-align: right;\n",
       "    }\n",
       "</style>\n",
       "<table border=\"1\" class=\"dataframe\">\n",
       "  <thead>\n",
       "    <tr style=\"text-align: right;\">\n",
       "      <th></th>\n",
       "      <th>x</th>\n",
       "      <th>y</th>\n",
       "    </tr>\n",
       "  </thead>\n",
       "  <tbody>\n",
       "    <tr>\n",
       "      <th>47817</th>\n",
       "      <td>2021-11-25 10:00:00</td>\n",
       "      <td>17.933333</td>\n",
       "    </tr>\n",
       "    <tr>\n",
       "      <th>47818</th>\n",
       "      <td>2021-11-25 11:00:00</td>\n",
       "      <td>9.566667</td>\n",
       "    </tr>\n",
       "    <tr>\n",
       "      <th>47819</th>\n",
       "      <td>2021-11-25 12:00:00</td>\n",
       "      <td>17.416667</td>\n",
       "    </tr>\n",
       "    <tr>\n",
       "      <th>47820</th>\n",
       "      <td>2021-11-25 13:00:00</td>\n",
       "      <td>11.216667</td>\n",
       "    </tr>\n",
       "    <tr>\n",
       "      <th>47821</th>\n",
       "      <td>2021-11-25 14:00:00</td>\n",
       "      <td>22.150000</td>\n",
       "    </tr>\n",
       "  </tbody>\n",
       "</table>\n",
       "</div>"
      ],
      "text/plain": [
       "                        x          y\n",
       "47817 2021-11-25 10:00:00  17.933333\n",
       "47818 2021-11-25 11:00:00   9.566667\n",
       "47819 2021-11-25 12:00:00  17.416667\n",
       "47820 2021-11-25 13:00:00  11.216667\n",
       "47821 2021-11-25 14:00:00  22.150000"
      ]
     },
     "execution_count": 18,
     "metadata": {},
     "output_type": "execute_result"
    }
   ],
   "source": [
    "# Reondeo las horas\n",
    "data['x'] = data['x'].dt.round('H')\n",
    "\n",
    "# Obtengo nº de transacciones por hora\n",
    "data_grouped = data\\\n",
    "  .groupby('x')\\\n",
    "  .sum()\\\n",
    "  .reset_index()\n",
    "\n",
    "# Me quedo con los datos a partir de esa fecha\n",
    "data_grouped = data_grouped.loc[data_grouped['x'] >= fecha_extraer,:]\n",
    "\n",
    "data_grouped.head()\n"
   ]
  },
  {
   "cell_type": "code",
   "execution_count": 21,
   "metadata": {},
   "outputs": [
    {
     "data": {
      "text/plain": [
       "[(Timestamp('2021-11-25 10:00:00'), 17.9333),\n",
       " (Timestamp('2021-11-25 11:00:00'), 9.5667),\n",
       " (Timestamp('2021-11-25 12:00:00'), 17.4167)]"
      ]
     },
     "execution_count": 21,
     "metadata": {},
     "output_type": "execute_result"
    }
   ],
   "source": [
    "# Subo los datos reales a la bbdd\n",
    "upload_data = list(zip(data_grouped['x'], round(data_grouped['y'],4)))\n",
    "upload_data[:3]"
   ]
  },
  {
   "cell_type": "code",
   "execution_count": 25,
   "metadata": {},
   "outputs": [],
   "source": [
    "# Hago el insert\n",
    "for upload_dia in upload_data:\n",
    "    timestamp, realidad = upload_dia\n",
    "\n",
    "    result = engine.execute(f\"INSERT INTO realidad (fecha_realidad, realidad)\\\n",
    "        VALUES('{timestamp}', '{realidad}') \\\n",
    "        ON CONFLICT (fecha_realidad) DO UPDATE \\\n",
    "        SET fecha_realidad = '{timestamp}', \\\n",
    "            realidad = '{realidad}'\\\n",
    "        ;\")\n",
    "    result.close()\n"
   ]
  }
 ],
 "metadata": {
  "interpreter": {
   "hash": "535129f11dd28e7f8f7171c0a5b256c28a72faf5d8172fe0fd5bb0300a9d1b35"
  },
  "kernelspec": {
   "display_name": "Python 3.9.7 64-bit ('mlops_example': venv)",
   "language": "python",
   "name": "python3"
  },
  "language_info": {
   "codemirror_mode": {
    "name": "ipython",
    "version": 3
   },
   "file_extension": ".py",
   "mimetype": "text/x-python",
   "name": "python",
   "nbconvert_exporter": "python",
   "pygments_lexer": "ipython3",
   "version": "3.9.7"
  },
  "orig_nbformat": 4
 },
 "nbformat": 4,
 "nbformat_minor": 2
}
