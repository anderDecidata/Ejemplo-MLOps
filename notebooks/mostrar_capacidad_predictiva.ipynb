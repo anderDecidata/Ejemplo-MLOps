{
 "cells": [
  {
   "cell_type": "code",
   "execution_count": 8,
   "metadata": {},
   "outputs": [
    {
     "name": "stdout",
     "output_type": "stream",
     "text": [
      "['.git', '.gitignore', 'app.py', 'app_mae.py', 'app_visualizacion', 'bitcoin.csv', 'create_ddbb.py', 'ddbb_secrets.py', 'Dockerfile', 'get_data.py', 'mlops_example', 'model.pickle', 'model_train.py', 'notebooks', 'requirements.txt', 'ultima_fecha_entrenamiento.pickle', 'utils.py', '__pycache__']\n"
     ]
    }
   ],
   "source": [
    "import os\n",
    "raiz = os.getcwd().replace('\\\\notebooks', '')\n",
    "os.chdir(raiz)"
   ]
  },
  {
   "cell_type": "code",
   "execution_count": 9,
   "metadata": {},
   "outputs": [],
   "source": [
    "from sqlalchemy import create_engine\n",
    "import pandas as pd\n",
    "import plotly.express as px\n",
    "from ddbb_secrets import uri"
   ]
  },
  {
   "cell_type": "code",
   "execution_count": 4,
   "metadata": {},
   "outputs": [
    {
     "data": {
      "text/html": [
       "<div>\n",
       "<style scoped>\n",
       "    .dataframe tbody tr th:only-of-type {\n",
       "        vertical-align: middle;\n",
       "    }\n",
       "\n",
       "    .dataframe tbody tr th {\n",
       "        vertical-align: top;\n",
       "    }\n",
       "\n",
       "    .dataframe thead th {\n",
       "        text-align: right;\n",
       "    }\n",
       "</style>\n",
       "<table border=\"1\" class=\"dataframe\">\n",
       "  <thead>\n",
       "    <tr style=\"text-align: right;\">\n",
       "      <th></th>\n",
       "      <th>fecha_prediccion</th>\n",
       "      <th>prediccion</th>\n",
       "      <th>realidad</th>\n",
       "      <th>MAE</th>\n",
       "    </tr>\n",
       "  </thead>\n",
       "  <tbody>\n",
       "    <tr>\n",
       "      <th>0</th>\n",
       "      <td>2021-11-29 10:00:00</td>\n",
       "      <td>3.0657</td>\n",
       "      <td>6.4833</td>\n",
       "      <td>3.4176</td>\n",
       "    </tr>\n",
       "    <tr>\n",
       "      <th>1</th>\n",
       "      <td>2021-11-29 09:00:00</td>\n",
       "      <td>2.7216</td>\n",
       "      <td>9.9667</td>\n",
       "      <td>7.2451</td>\n",
       "    </tr>\n",
       "    <tr>\n",
       "      <th>2</th>\n",
       "      <td>2021-11-29 08:00:00</td>\n",
       "      <td>3.0657</td>\n",
       "      <td>15.0667</td>\n",
       "      <td>12.0010</td>\n",
       "    </tr>\n",
       "    <tr>\n",
       "      <th>3</th>\n",
       "      <td>2021-11-29 07:00:00</td>\n",
       "      <td>2.7216</td>\n",
       "      <td>8.3500</td>\n",
       "      <td>5.6284</td>\n",
       "    </tr>\n",
       "    <tr>\n",
       "      <th>4</th>\n",
       "      <td>2021-11-29 06:00:00</td>\n",
       "      <td>3.0657</td>\n",
       "      <td>13.3500</td>\n",
       "      <td>10.2843</td>\n",
       "    </tr>\n",
       "  </tbody>\n",
       "</table>\n",
       "</div>"
      ],
      "text/plain": [
       "     fecha_prediccion  prediccion  realidad      MAE\n",
       "0 2021-11-29 10:00:00      3.0657    6.4833   3.4176\n",
       "1 2021-11-29 09:00:00      2.7216    9.9667   7.2451\n",
       "2 2021-11-29 08:00:00      3.0657   15.0667  12.0010\n",
       "3 2021-11-29 07:00:00      2.7216    8.3500   5.6284\n",
       "4 2021-11-29 06:00:00      3.0657   13.3500  10.2843"
      ]
     },
     "execution_count": 4,
     "metadata": {},
     "output_type": "execute_result"
    }
   ],
   "source": [
    "# Obtengo los datos\n",
    "engine = create_engine(uri)\n",
    "\n",
    "query = 'SELECT * FROM tablon;'\n",
    "result = engine.execute(query)\n",
    "datos = result.fetchall()\n",
    "result.close()\n",
    "\n",
    "datos = pd.DataFrame(datos, columns = [\n",
    "    'fecha_prediccion',\n",
    "    'prediccion',\n",
    "    'realidad',\n",
    "    'MAE'\n",
    "    ])\n",
    "\n",
    "datos.head()"
   ]
  },
  {
   "cell_type": "code",
   "execution_count": 5,
   "metadata": {},
   "outputs": [
    {
     "data": {
      "application/vnd.plotly.v1+json": {
       "config": {
        "plotlyServerURL": "https://plot.ly"
       },
       "data": [
        {
         "hovertemplate": "fecha_prediccion=%{x}<br>MAE=%{y}<extra></extra>",
         "legendgroup": "",
         "line": {
          "color": "#636efa",
          "dash": "solid"
         },
         "marker": {
          "symbol": "circle"
         },
         "mode": "lines",
         "name": "",
         "orientation": "v",
         "showlegend": false,
         "type": "scatter",
         "x": [
          "2021-11-29T10:00:00",
          "2021-11-29T09:00:00",
          "2021-11-29T08:00:00",
          "2021-11-29T07:00:00",
          "2021-11-29T06:00:00",
          "2021-11-29T05:00:00",
          "2021-11-29T04:00:00",
          "2021-11-29T03:00:00",
          "2021-11-29T02:00:00",
          "2021-11-29T01:00:00",
          "2021-11-29T00:00:00",
          "2021-11-28T23:00:00",
          "2021-11-28T22:00:00",
          "2021-11-28T21:00:00",
          "2021-11-28T20:00:00",
          "2021-11-28T19:00:00",
          "2021-11-28T18:00:00",
          "2021-11-28T17:00:00",
          "2021-11-28T16:00:00",
          "2021-11-28T15:00:00",
          "2021-11-28T14:00:00",
          "2021-11-28T13:00:00",
          "2021-11-28T12:00:00",
          "2021-11-28T11:00:00",
          "2021-11-28T10:00:00",
          "2021-11-28T09:00:00",
          "2021-11-28T08:00:00",
          "2021-11-28T07:00:00",
          "2021-11-28T06:00:00",
          "2021-11-28T05:00:00",
          "2021-11-28T04:00:00",
          "2021-11-28T03:00:00",
          "2021-11-28T02:00:00",
          "2021-11-28T01:00:00",
          "2021-11-28T00:00:00",
          "2021-11-27T23:00:00",
          "2021-11-27T22:00:00",
          "2021-11-27T21:00:00",
          "2021-11-27T20:00:00",
          "2021-11-27T19:00:00",
          "2021-11-27T18:00:00",
          "2021-11-27T17:00:00",
          "2021-11-27T16:00:00",
          "2021-11-27T15:00:00",
          "2021-11-27T14:00:00",
          "2021-11-27T13:00:00",
          "2021-11-27T12:00:00",
          "2021-11-27T11:00:00",
          "2021-11-27T10:00:00",
          "2021-11-27T09:00:00",
          "2021-11-27T08:00:00",
          "2021-11-27T07:00:00",
          "2021-11-27T06:00:00",
          "2021-11-27T05:00:00",
          "2021-11-27T04:00:00",
          "2021-11-27T03:00:00",
          "2021-11-27T02:00:00",
          "2021-11-27T01:00:00",
          "2021-11-27T00:00:00",
          "2021-11-26T23:00:00",
          "2021-11-26T22:00:00",
          "2021-11-26T21:00:00",
          "2021-11-26T20:00:00",
          "2021-11-26T19:00:00",
          "2021-11-26T18:00:00",
          "2021-11-26T17:00:00",
          "2021-11-26T16:00:00",
          "2021-11-26T15:00:00",
          "2021-11-26T14:00:00",
          "2021-11-26T13:00:00",
          "2021-11-26T12:00:00",
          "2021-11-26T11:00:00",
          "2021-11-26T10:00:00",
          "2021-11-26T09:00:00",
          "2021-11-26T08:00:00",
          "2021-11-26T07:00:00",
          "2021-11-26T06:00:00",
          "2021-11-26T05:00:00",
          "2021-11-26T04:00:00",
          "2021-11-26T03:00:00",
          "2021-11-26T02:00:00",
          "2021-11-26T01:00:00",
          "2021-11-26T00:00:00",
          "2021-11-25T23:00:00",
          "2021-11-25T22:00:00",
          "2021-11-25T21:00:00",
          "2021-11-25T20:00:00",
          "2021-11-25T19:00:00",
          "2021-11-25T18:00:00",
          "2021-11-25T17:00:00",
          "2021-11-25T16:00:00",
          "2021-11-25T15:00:00",
          "2021-11-25T14:00:00",
          "2021-11-25T13:00:00",
          "2021-11-25T12:00:00",
          "2021-11-25T11:00:00",
          "2021-11-25T10:00:00"
         ],
         "xaxis": "x",
         "y": [
          3.4175999999999997,
          7.245099999999999,
          12.001000000000001,
          5.628399999999999,
          10.2843,
          3.8783999999999996,
          7.401,
          3.1117000000000004,
          7.967600000000001,
          4.1951,
          9.6343,
          5.511699999999999,
          10.851,
          6.728399999999999,
          12.2843,
          7.0451,
          13.6343,
          7.0617,
          12.551,
          5.9284,
          11.0843,
          5.6617,
          9.0343,
          4.0451,
          8.551,
          3.7284,
          7.6175999999999995,
          3.6451,
          5.5176,
          2.2117,
          5.401,
          2.4784,
          6.001000000000001,
          3.5951,
          7.984300000000001,
          5.0951,
          10.901,
          6.261699999999999,
          12.1176,
          6.9451,
          13.8843,
          7.611699999999999,
          14.767600000000002,
          7.0451,
          13.1343,
          6.0617,
          11.0343,
          6.2783999999999995,
          11.4176,
          6.1784,
          9.951,
          4.6951,
          7.651,
          3.2284,
          7.1175999999999995,
          3.8116999999999996,
          8.467600000000001,
          4.5951,
          10.9343,
          6.1951,
          13.801000000000002,
          9.1451,
          17.051000000000002,
          11.3451,
          17.9176,
          10.5117,
          19.9343,
          11.7951,
          18.5843,
          8.2784,
          15.001000000000001,
          7.7951,
          14.317599999999999,
          7.395099999999999,
          12.9343,
          5.378399999999999,
          7.351000000000001,
          3.0951,
          7.4335,
          2.0961,
          7.2673,
          3.4330000000000003,
          9.8399,
          6.367099999999999,
          12.3842,
          7.5298,
          16.2742,
          9.111899999999999,
          18.2305,
          11.355400000000001,
          20.3891,
          11.561200000000001,
          19.0642,
          8.485999999999999,
          14.3684,
          6.823,
          14.8723
         ],
         "yaxis": "y"
        }
       ],
       "layout": {
        "legend": {
         "tracegroupgap": 0
        },
        "margin": {
         "t": 60
        },
        "template": {
         "data": {
          "bar": [
           {
            "error_x": {
             "color": "#2a3f5f"
            },
            "error_y": {
             "color": "#2a3f5f"
            },
            "marker": {
             "line": {
              "color": "#E5ECF6",
              "width": 0.5
             },
             "pattern": {
              "fillmode": "overlay",
              "size": 10,
              "solidity": 0.2
             }
            },
            "type": "bar"
           }
          ],
          "barpolar": [
           {
            "marker": {
             "line": {
              "color": "#E5ECF6",
              "width": 0.5
             },
             "pattern": {
              "fillmode": "overlay",
              "size": 10,
              "solidity": 0.2
             }
            },
            "type": "barpolar"
           }
          ],
          "carpet": [
           {
            "aaxis": {
             "endlinecolor": "#2a3f5f",
             "gridcolor": "white",
             "linecolor": "white",
             "minorgridcolor": "white",
             "startlinecolor": "#2a3f5f"
            },
            "baxis": {
             "endlinecolor": "#2a3f5f",
             "gridcolor": "white",
             "linecolor": "white",
             "minorgridcolor": "white",
             "startlinecolor": "#2a3f5f"
            },
            "type": "carpet"
           }
          ],
          "choropleth": [
           {
            "colorbar": {
             "outlinewidth": 0,
             "ticks": ""
            },
            "type": "choropleth"
           }
          ],
          "contour": [
           {
            "colorbar": {
             "outlinewidth": 0,
             "ticks": ""
            },
            "colorscale": [
             [
              0,
              "#0d0887"
             ],
             [
              0.1111111111111111,
              "#46039f"
             ],
             [
              0.2222222222222222,
              "#7201a8"
             ],
             [
              0.3333333333333333,
              "#9c179e"
             ],
             [
              0.4444444444444444,
              "#bd3786"
             ],
             [
              0.5555555555555556,
              "#d8576b"
             ],
             [
              0.6666666666666666,
              "#ed7953"
             ],
             [
              0.7777777777777778,
              "#fb9f3a"
             ],
             [
              0.8888888888888888,
              "#fdca26"
             ],
             [
              1,
              "#f0f921"
             ]
            ],
            "type": "contour"
           }
          ],
          "contourcarpet": [
           {
            "colorbar": {
             "outlinewidth": 0,
             "ticks": ""
            },
            "type": "contourcarpet"
           }
          ],
          "heatmap": [
           {
            "colorbar": {
             "outlinewidth": 0,
             "ticks": ""
            },
            "colorscale": [
             [
              0,
              "#0d0887"
             ],
             [
              0.1111111111111111,
              "#46039f"
             ],
             [
              0.2222222222222222,
              "#7201a8"
             ],
             [
              0.3333333333333333,
              "#9c179e"
             ],
             [
              0.4444444444444444,
              "#bd3786"
             ],
             [
              0.5555555555555556,
              "#d8576b"
             ],
             [
              0.6666666666666666,
              "#ed7953"
             ],
             [
              0.7777777777777778,
              "#fb9f3a"
             ],
             [
              0.8888888888888888,
              "#fdca26"
             ],
             [
              1,
              "#f0f921"
             ]
            ],
            "type": "heatmap"
           }
          ],
          "heatmapgl": [
           {
            "colorbar": {
             "outlinewidth": 0,
             "ticks": ""
            },
            "colorscale": [
             [
              0,
              "#0d0887"
             ],
             [
              0.1111111111111111,
              "#46039f"
             ],
             [
              0.2222222222222222,
              "#7201a8"
             ],
             [
              0.3333333333333333,
              "#9c179e"
             ],
             [
              0.4444444444444444,
              "#bd3786"
             ],
             [
              0.5555555555555556,
              "#d8576b"
             ],
             [
              0.6666666666666666,
              "#ed7953"
             ],
             [
              0.7777777777777778,
              "#fb9f3a"
             ],
             [
              0.8888888888888888,
              "#fdca26"
             ],
             [
              1,
              "#f0f921"
             ]
            ],
            "type": "heatmapgl"
           }
          ],
          "histogram": [
           {
            "marker": {
             "pattern": {
              "fillmode": "overlay",
              "size": 10,
              "solidity": 0.2
             }
            },
            "type": "histogram"
           }
          ],
          "histogram2d": [
           {
            "colorbar": {
             "outlinewidth": 0,
             "ticks": ""
            },
            "colorscale": [
             [
              0,
              "#0d0887"
             ],
             [
              0.1111111111111111,
              "#46039f"
             ],
             [
              0.2222222222222222,
              "#7201a8"
             ],
             [
              0.3333333333333333,
              "#9c179e"
             ],
             [
              0.4444444444444444,
              "#bd3786"
             ],
             [
              0.5555555555555556,
              "#d8576b"
             ],
             [
              0.6666666666666666,
              "#ed7953"
             ],
             [
              0.7777777777777778,
              "#fb9f3a"
             ],
             [
              0.8888888888888888,
              "#fdca26"
             ],
             [
              1,
              "#f0f921"
             ]
            ],
            "type": "histogram2d"
           }
          ],
          "histogram2dcontour": [
           {
            "colorbar": {
             "outlinewidth": 0,
             "ticks": ""
            },
            "colorscale": [
             [
              0,
              "#0d0887"
             ],
             [
              0.1111111111111111,
              "#46039f"
             ],
             [
              0.2222222222222222,
              "#7201a8"
             ],
             [
              0.3333333333333333,
              "#9c179e"
             ],
             [
              0.4444444444444444,
              "#bd3786"
             ],
             [
              0.5555555555555556,
              "#d8576b"
             ],
             [
              0.6666666666666666,
              "#ed7953"
             ],
             [
              0.7777777777777778,
              "#fb9f3a"
             ],
             [
              0.8888888888888888,
              "#fdca26"
             ],
             [
              1,
              "#f0f921"
             ]
            ],
            "type": "histogram2dcontour"
           }
          ],
          "mesh3d": [
           {
            "colorbar": {
             "outlinewidth": 0,
             "ticks": ""
            },
            "type": "mesh3d"
           }
          ],
          "parcoords": [
           {
            "line": {
             "colorbar": {
              "outlinewidth": 0,
              "ticks": ""
             }
            },
            "type": "parcoords"
           }
          ],
          "pie": [
           {
            "automargin": true,
            "type": "pie"
           }
          ],
          "scatter": [
           {
            "marker": {
             "colorbar": {
              "outlinewidth": 0,
              "ticks": ""
             }
            },
            "type": "scatter"
           }
          ],
          "scatter3d": [
           {
            "line": {
             "colorbar": {
              "outlinewidth": 0,
              "ticks": ""
             }
            },
            "marker": {
             "colorbar": {
              "outlinewidth": 0,
              "ticks": ""
             }
            },
            "type": "scatter3d"
           }
          ],
          "scattercarpet": [
           {
            "marker": {
             "colorbar": {
              "outlinewidth": 0,
              "ticks": ""
             }
            },
            "type": "scattercarpet"
           }
          ],
          "scattergeo": [
           {
            "marker": {
             "colorbar": {
              "outlinewidth": 0,
              "ticks": ""
             }
            },
            "type": "scattergeo"
           }
          ],
          "scattergl": [
           {
            "marker": {
             "colorbar": {
              "outlinewidth": 0,
              "ticks": ""
             }
            },
            "type": "scattergl"
           }
          ],
          "scattermapbox": [
           {
            "marker": {
             "colorbar": {
              "outlinewidth": 0,
              "ticks": ""
             }
            },
            "type": "scattermapbox"
           }
          ],
          "scatterpolar": [
           {
            "marker": {
             "colorbar": {
              "outlinewidth": 0,
              "ticks": ""
             }
            },
            "type": "scatterpolar"
           }
          ],
          "scatterpolargl": [
           {
            "marker": {
             "colorbar": {
              "outlinewidth": 0,
              "ticks": ""
             }
            },
            "type": "scatterpolargl"
           }
          ],
          "scatterternary": [
           {
            "marker": {
             "colorbar": {
              "outlinewidth": 0,
              "ticks": ""
             }
            },
            "type": "scatterternary"
           }
          ],
          "surface": [
           {
            "colorbar": {
             "outlinewidth": 0,
             "ticks": ""
            },
            "colorscale": [
             [
              0,
              "#0d0887"
             ],
             [
              0.1111111111111111,
              "#46039f"
             ],
             [
              0.2222222222222222,
              "#7201a8"
             ],
             [
              0.3333333333333333,
              "#9c179e"
             ],
             [
              0.4444444444444444,
              "#bd3786"
             ],
             [
              0.5555555555555556,
              "#d8576b"
             ],
             [
              0.6666666666666666,
              "#ed7953"
             ],
             [
              0.7777777777777778,
              "#fb9f3a"
             ],
             [
              0.8888888888888888,
              "#fdca26"
             ],
             [
              1,
              "#f0f921"
             ]
            ],
            "type": "surface"
           }
          ],
          "table": [
           {
            "cells": {
             "fill": {
              "color": "#EBF0F8"
             },
             "line": {
              "color": "white"
             }
            },
            "header": {
             "fill": {
              "color": "#C8D4E3"
             },
             "line": {
              "color": "white"
             }
            },
            "type": "table"
           }
          ]
         },
         "layout": {
          "annotationdefaults": {
           "arrowcolor": "#2a3f5f",
           "arrowhead": 0,
           "arrowwidth": 1
          },
          "autotypenumbers": "strict",
          "coloraxis": {
           "colorbar": {
            "outlinewidth": 0,
            "ticks": ""
           }
          },
          "colorscale": {
           "diverging": [
            [
             0,
             "#8e0152"
            ],
            [
             0.1,
             "#c51b7d"
            ],
            [
             0.2,
             "#de77ae"
            ],
            [
             0.3,
             "#f1b6da"
            ],
            [
             0.4,
             "#fde0ef"
            ],
            [
             0.5,
             "#f7f7f7"
            ],
            [
             0.6,
             "#e6f5d0"
            ],
            [
             0.7,
             "#b8e186"
            ],
            [
             0.8,
             "#7fbc41"
            ],
            [
             0.9,
             "#4d9221"
            ],
            [
             1,
             "#276419"
            ]
           ],
           "sequential": [
            [
             0,
             "#0d0887"
            ],
            [
             0.1111111111111111,
             "#46039f"
            ],
            [
             0.2222222222222222,
             "#7201a8"
            ],
            [
             0.3333333333333333,
             "#9c179e"
            ],
            [
             0.4444444444444444,
             "#bd3786"
            ],
            [
             0.5555555555555556,
             "#d8576b"
            ],
            [
             0.6666666666666666,
             "#ed7953"
            ],
            [
             0.7777777777777778,
             "#fb9f3a"
            ],
            [
             0.8888888888888888,
             "#fdca26"
            ],
            [
             1,
             "#f0f921"
            ]
           ],
           "sequentialminus": [
            [
             0,
             "#0d0887"
            ],
            [
             0.1111111111111111,
             "#46039f"
            ],
            [
             0.2222222222222222,
             "#7201a8"
            ],
            [
             0.3333333333333333,
             "#9c179e"
            ],
            [
             0.4444444444444444,
             "#bd3786"
            ],
            [
             0.5555555555555556,
             "#d8576b"
            ],
            [
             0.6666666666666666,
             "#ed7953"
            ],
            [
             0.7777777777777778,
             "#fb9f3a"
            ],
            [
             0.8888888888888888,
             "#fdca26"
            ],
            [
             1,
             "#f0f921"
            ]
           ]
          },
          "colorway": [
           "#636efa",
           "#EF553B",
           "#00cc96",
           "#ab63fa",
           "#FFA15A",
           "#19d3f3",
           "#FF6692",
           "#B6E880",
           "#FF97FF",
           "#FECB52"
          ],
          "font": {
           "color": "#2a3f5f"
          },
          "geo": {
           "bgcolor": "white",
           "lakecolor": "white",
           "landcolor": "#E5ECF6",
           "showlakes": true,
           "showland": true,
           "subunitcolor": "white"
          },
          "hoverlabel": {
           "align": "left"
          },
          "hovermode": "closest",
          "mapbox": {
           "style": "light"
          },
          "paper_bgcolor": "white",
          "plot_bgcolor": "#E5ECF6",
          "polar": {
           "angularaxis": {
            "gridcolor": "white",
            "linecolor": "white",
            "ticks": ""
           },
           "bgcolor": "#E5ECF6",
           "radialaxis": {
            "gridcolor": "white",
            "linecolor": "white",
            "ticks": ""
           }
          },
          "scene": {
           "xaxis": {
            "backgroundcolor": "#E5ECF6",
            "gridcolor": "white",
            "gridwidth": 2,
            "linecolor": "white",
            "showbackground": true,
            "ticks": "",
            "zerolinecolor": "white"
           },
           "yaxis": {
            "backgroundcolor": "#E5ECF6",
            "gridcolor": "white",
            "gridwidth": 2,
            "linecolor": "white",
            "showbackground": true,
            "ticks": "",
            "zerolinecolor": "white"
           },
           "zaxis": {
            "backgroundcolor": "#E5ECF6",
            "gridcolor": "white",
            "gridwidth": 2,
            "linecolor": "white",
            "showbackground": true,
            "ticks": "",
            "zerolinecolor": "white"
           }
          },
          "shapedefaults": {
           "line": {
            "color": "#2a3f5f"
           }
          },
          "ternary": {
           "aaxis": {
            "gridcolor": "white",
            "linecolor": "white",
            "ticks": ""
           },
           "baxis": {
            "gridcolor": "white",
            "linecolor": "white",
            "ticks": ""
           },
           "bgcolor": "#E5ECF6",
           "caxis": {
            "gridcolor": "white",
            "linecolor": "white",
            "ticks": ""
           }
          },
          "title": {
           "x": 0.05
          },
          "xaxis": {
           "automargin": true,
           "gridcolor": "white",
           "linecolor": "white",
           "ticks": "",
           "title": {
            "standoff": 15
           },
           "zerolinecolor": "white",
           "zerolinewidth": 2
          },
          "yaxis": {
           "automargin": true,
           "gridcolor": "white",
           "linecolor": "white",
           "ticks": "",
           "title": {
            "standoff": 15
           },
           "zerolinecolor": "white",
           "zerolinewidth": 2
          }
         }
        },
        "xaxis": {
         "anchor": "y",
         "domain": [
          0,
          1
         ],
         "title": {
          "text": "fecha_prediccion"
         }
        },
        "yaxis": {
         "anchor": "x",
         "domain": [
          0,
          1
         ],
         "title": {
          "text": "MAE"
         }
        }
       }
      }
     },
     "metadata": {},
     "output_type": "display_data"
    }
   ],
   "source": [
    "# Creo el gráfico\n",
    "fig = px.line(datos, x='fecha_prediccion', y=\"MAE\")\n",
    "fig.show()"
   ]
  }
 ],
 "metadata": {
  "interpreter": {
   "hash": "535129f11dd28e7f8f7171c0a5b256c28a72faf5d8172fe0fd5bb0300a9d1b35"
  },
  "kernelspec": {
   "display_name": "Python 3.9.7 64-bit ('mlops_example': venv)",
   "language": "python",
   "name": "python3"
  },
  "language_info": {
   "codemirror_mode": {
    "name": "ipython",
    "version": 3
   },
   "file_extension": ".py",
   "mimetype": "text/x-python",
   "name": "python",
   "nbconvert_exporter": "python",
   "pygments_lexer": "ipython3",
   "version": "3.9.7"
  },
  "orig_nbformat": 4
 },
 "nbformat": 4,
 "nbformat_minor": 2
}
